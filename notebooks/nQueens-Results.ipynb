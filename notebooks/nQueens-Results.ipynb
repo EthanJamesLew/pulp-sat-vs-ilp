{
 "cells": [
  {
   "cell_type": "code",
   "execution_count": null,
   "id": "6cc6959a",
   "metadata": {},
   "outputs": [],
   "source": [
    "import pathlib\n",
    "import numpy as np\n",
    "import json\n",
    "import glob\n",
    "\n",
    "import matplotlib.pyplot as plt\n",
    "%config InlineBackend.figure_format='retina'"
   ]
  },
  {
   "cell_type": "code",
   "execution_count": null,
   "id": "52decdd3",
   "metadata": {},
   "outputs": [],
   "source": [
    "results_dir = pathlib.Path(\"../results/\").resolve()\n",
    "files = glob.glob(str(results_dir / \"nqueens*json\"))"
   ]
  },
  {
   "cell_type": "code",
   "execution_count": null,
   "id": "6787a835",
   "metadata": {},
   "outputs": [],
   "source": [
    "# collect the results into a dictionary\n",
    "results = {}\n",
    "\n",
    "for filename in files:\n",
    "    with open(filename, \"r\") as fp:\n",
    "        experiment = json.load(fp)\n",
    "        board_size = experiment['parameter_values']['board_size']\n",
    "        solver = experiment['solver_result']['solver']\n",
    "        if solver in results:\n",
    "            results[solver].append((board_size, experiment))\n",
    "        else:\n",
    "            results[solver] = [(board_size, experiment)]"
   ]
  },
  {
   "cell_type": "code",
   "execution_count": null,
   "id": "8eb4f960",
   "metadata": {},
   "outputs": [],
   "source": [
    "def collect_traces(results, filter_func):\n",
    "    \"\"\"convert a results entry to x and y series\"\"\"\n",
    "    x, y = list(zip(*[(x, filter_func(y)) for x, y in results]))\n",
    "    idxs = np.argsort(x)\n",
    "    return np.array(x)[idxs], np.array(y)[idxs]"
   ]
  },
  {
   "cell_type": "code",
   "execution_count": null,
   "id": "5eee6d7a",
   "metadata": {},
   "outputs": [],
   "source": [
    "# plot the solve times\n",
    "for solver_name in results.keys():\n",
    "    x, y = collect_traces(results[solver_name], lambda x: x['solver_result']['solve_time'])\n",
    "    plt.plot(x, y, label=solver_name)\n",
    "\n",
    "plt.legend(loc = 'lower right')\n",
    "plt.grid()\n",
    "plt.xlabel('Board Size $n$')\n",
    "plt.ylabel('solve time (s)')\n",
    "plt.yscale('log')\n",
    "plt.title('$n$-Queens Solver Performance')\n",
    "plt.show()"
   ]
  },
  {
   "cell_type": "code",
   "execution_count": null,
   "id": "773acea1",
   "metadata": {},
   "outputs": [],
   "source": []
  },
  {
   "cell_type": "code",
   "execution_count": null,
   "id": "faf14d98",
   "metadata": {},
   "outputs": [],
   "source": []
  }
 ],
 "metadata": {
  "kernelspec": {
   "display_name": "Python 3 (ipykernel)",
   "language": "python",
   "name": "python3"
  },
  "language_info": {
   "codemirror_mode": {
    "name": "ipython",
    "version": 3
   },
   "file_extension": ".py",
   "mimetype": "text/x-python",
   "name": "python",
   "nbconvert_exporter": "python",
   "pygments_lexer": "ipython3",
   "version": "3.9.16"
  }
 },
 "nbformat": 4,
 "nbformat_minor": 5
}
